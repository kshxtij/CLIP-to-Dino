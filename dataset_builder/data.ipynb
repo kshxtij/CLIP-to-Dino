{
 "cells": [
  {
   "cell_type": "code",
   "execution_count": 9,
   "metadata": {},
   "outputs": [],
   "source": [
    "import pandas as pd\n",
    "import numpy as np\n",
    "import shapely\n",
    "import folium\n",
    "from folium.plugins import HeatMap\n",
    "from collections import defaultdict"
   ]
  },
  {
   "cell_type": "code",
   "execution_count": 2,
   "metadata": {},
   "outputs": [],
   "source": [
    "country_data = pd.read_csv('./country_area/API_AG.LND.TOTL.K2_DS2_en_csv_v2_1036.csv')\n",
    "city_data = pd.read_csv('./cities/worldcities.csv')\n",
    "continent_data = pd.read_csv('./Countries-by-continents.csv')"
   ]
  },
  {
   "cell_type": "code",
   "execution_count": 3,
   "metadata": {},
   "outputs": [],
   "source": [
    "# For each country, pick the latest value of the area\n",
    "country_data = country_data.dropna(subset=['2022'])\n",
    "country_data = country_data[['Country Name', '2022']]\n",
    "\n",
    "# Drop countries that don't appear in the city data\n",
    "country_data = country_data[country_data['Country Name'].isin(city_data['country'])]\n",
    "country_data['Continent'] = country_data['Country Name'].map(continent_data.set_index('Country')['Continent'])\n",
    "country_data['Continent'].dropna(inplace=True)\n",
    "country_data.rename(columns={'Country Name': 'country', '2022': 'area'}, inplace=True)\n",
    "\n",
    "city_data.dropna(subset=['population'], inplace=True)"
   ]
  },
  {
   "cell_type": "code",
   "execution_count": 4,
   "metadata": {},
   "outputs": [],
   "source": [
    "def polygon_random_points (poly, num_points):\n",
    "    min_x, min_y, max_x, max_y = poly.bounds\n",
    "    points = []\n",
    "    while len(points) < num_points:\n",
    "        random_point = shapely.Point([np.random.uniform(min_x, max_x), np.random.uniform(min_y, max_y)])\n",
    "        if (random_point.within(poly)):\n",
    "            points.append(random_point)\n",
    "    return points"
   ]
  },
  {
   "cell_type": "code",
   "execution_count": 11,
   "metadata": {},
   "outputs": [],
   "source": [
    "def generate_country_data():\n",
    "    # We first sample a continent with equal probability\n",
    "    continent = np.random.choice(country_data['Continent'].unique())\n",
    "    continent_countries = country_data[country_data['Continent'] == continent]\n",
    "    if continent_countries.empty:\n",
    "        return generate_country_data()\n",
    "    # We first sample a country with a probability proportional to its surface area compared to the Earth’s total surface area.\n",
    "    country = np.random.choice(continent_countries['country'], p=continent_countries['area']/continent_countries['area'].sum())\n",
    "    # Randomly sample a city from the selected country\n",
    "    picked_city_data = city_data[city_data['country'] == country]\n",
    "    if picked_city_data.empty:\n",
    "        return generate_country_data()\n",
    "    # Randomly sample a city based on the population\n",
    "    city_name = np.random.choice(picked_city_data['city'], p=picked_city_data['population']/picked_city_data['population'].sum())\n",
    "    city = city_data[city_data['city'] == city_name].iloc[0]\n",
    "\n",
    "    city_point = shapely.geometry.Point(city['lng'], city['lat'])\n",
    "    city_buffer = city_point.buffer(0.25)\n",
    "\n",
    "    return (continent, country, city, polygon_random_points(city_buffer, 50))"
   ]
  },
  {
   "cell_type": "code",
   "execution_count": 18,
   "metadata": {},
   "outputs": [
    {
     "name": "stdout",
     "output_type": "stream",
     "text": [
      "[('Africa', 194), ('Europe', 166), ('Oceania', 165), ('Asia', 161), ('North America', 159), ('South America', 155)]\n",
      "[('Australia', 153), ('United States', 78), ('Brazil', 77), ('Canada', 62), ('China', 56), ('Peru', 21), ('Argentina', 20), ('Ukraine', 19), ('Algeria', 19), ('India', 18), ('Libya', 18), ('France', 18), ('Kazakhstan', 16), ('Indonesia', 14), ('Sudan', 14), ('Mexico', 14), ('Germany', 13), ('Sweden', 12), ('South Africa', 12), ('Angola', 11), ('Spain', 11), ('Colombia', 10), ('Ethiopia', 9), ('Niger', 9), ('Bolivia', 8), ('Chad', 8), ('Mauritania', 8), ('Mali', 7), ('Chile', 7), ('Somalia', 7), ('Romania', 7), ('Afghanistan', 7), ('Norway', 7), ('Finland', 7), ('Thailand', 6), ('United Kingdom', 6), ('Papua New Guinea', 6), ('Belarus', 6), ('Tanzania', 6), ('Ireland', 6), ('Namibia', 5), ('Bulgaria', 5), ('Paraguay', 5), ('Uzbekistan', 5), ('Mongolia', 5), ('Mozambique', 5), ('Italy', 5), ('Poland', 5), ('Morocco', 5), ('Nigeria', 5), ('Central African Republic', 4), ('Botswana', 4), ('Denmark', 4), ('Gabon', 4), ('Saudi Arabia', 4), ('Greenland', 4), ('Cameroon', 4), ('New Zealand', 4), ('Moldova', 4), ('Iceland', 4), ('Japan', 4), ('Oman', 4), ('Iraq', 3), ('Pakistan', 3), ('Bangladesh', 3), ('Bosnia and Herzegovina', 3), ('Zambia', 3), ('Madagascar', 3), ('Kenya', 3), ('Greece', 3), ('Tunisia', 3), ('Cambodia', 3), ('Ghana', 3), ('Estonia', 3), ('Guinea', 2), ('Ecuador', 2), ('Georgia', 2), ('Croatia', 2), ('United Arab Emirates', 2), ('South Sudan', 2), ('Serbia', 2), ('Senegal', 2), ('Uruguay', 2), ('Uganda', 2), ('Suriname', 2), ('Slovenia', 2), ('Malaysia', 2), ('Hungary', 2), ('Burkina Faso', 2), ('Sri Lanka', 1), ('Solomon Islands', 1), ('Liberia', 1), ('Switzerland', 1), ('Tajikistan', 1), ('New Caledonia', 1), ('Austria', 1), ('Sierra Leone', 1), ('Guyana', 1), ('Belgium', 1), ('Bhutan', 1), ('Nepal', 1), ('Nicaragua', 1), ('Turkmenistan', 1), ('Latvia', 1), ('Netherlands', 1), ('Benin', 1), ('Portugal', 1), ('Lithuania', 1), ('Zimbabwe', 1), ('Jordan', 1), ('Guinea-Bissau', 1), ('Albania', 1)]\n"
     ]
    }
   ],
   "source": [
    "m = folium.Map(zoom_start=2.2)\n",
    "\n",
    "continents = defaultdict(int)\n",
    "countries = defaultdict(int)\n",
    "cities = defaultdict(int)\n",
    "\n",
    "for i in range(1000):\n",
    "    continent, country, city, points = generate_country_data()\n",
    "    # folium.Marker([city['lat'], city['lng']], popup=city['city']).add_to(m)\n",
    "    # for p in points:\n",
    "    #     folium.Marker([p.y, p.x], icon=folium.Icon(color='green')).add_to(m)\n",
    "    continents[continent] += 1\n",
    "    countries[country] += 1\n",
    "\n",
    "print(sorted(continents.items(), key=lambda x: x[1], reverse=True))\n",
    "print(sorted(countries.items(),  key=lambda x: x[1], reverse=True))"
   ]
  },
  {
   "cell_type": "code",
   "execution_count": 7,
   "metadata": {},
   "outputs": [],
   "source": [
    "# from GoogleDataDownloader import StreetViewer\n",
    "\n",
    "# sv = StreetViewer(verbose=False)\n",
    "# for p in points:\n",
    "#     sv.get_meta(f\"{p.y},{p.x}\")\n",
    "#     sv.get_pic(f\"{p.y},{p.x}\")"
   ]
  },
  {
   "cell_type": "code",
   "execution_count": null,
   "metadata": {},
   "outputs": [],
   "source": []
  }
 ],
 "metadata": {
  "kernelspec": {
   "display_name": "mlp",
   "language": "python",
   "name": "python3"
  },
  "language_info": {
   "codemirror_mode": {
    "name": "ipython",
    "version": 3
   },
   "file_extension": ".py",
   "mimetype": "text/x-python",
   "name": "python",
   "nbconvert_exporter": "python",
   "pygments_lexer": "ipython3",
   "version": "3.12.2"
  }
 },
 "nbformat": 4,
 "nbformat_minor": 2
}
