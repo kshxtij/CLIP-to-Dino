{
 "cells": [
  {
   "cell_type": "code",
   "execution_count": 9,
   "metadata": {},
   "outputs": [],
   "source": [
    "import pandas as pd\n",
    "import numpy as np\n",
    "import shapely\n",
    "import folium\n",
    "from folium.plugins import HeatMap\n",
    "from collections import defaultdict"
   ]
  },
  {
   "cell_type": "code",
   "execution_count": 2,
   "metadata": {},
   "outputs": [],
   "source": [
    "country_data = pd.read_csv('./country_area/API_AG.LND.TOTL.K2_DS2_en_csv_v2_1036.csv')\n",
    "city_data = pd.read_csv('./cities/worldcities.csv')\n",
    "continent_data = pd.read_csv('./Countries-by-continents.csv')"
   ]
  },
  {
   "cell_type": "code",
   "execution_count": 3,
   "metadata": {},
   "outputs": [],
   "source": [
    "# For each country, pick the latest value of the area\n",
    "country_data = country_data.dropna(subset=['2022'])\n",
    "country_data = country_data[['Country Name', '2022']]\n",
    "\n",
    "# Drop countries that don't appear in the city data\n",
    "country_data = country_data[country_data['Country Name'].isin(city_data['country'])]\n",
    "country_data['Continent'] = country_data['Country Name'].map(continent_data.set_index('Country')['Continent'])\n",
    "country_data['Continent'].dropna(inplace=True)\n",
    "country_data.rename(columns={'Country Name': 'country', '2022': 'area'}, inplace=True)\n",
    "\n",
    "city_data.dropna(subset=['population'], inplace=True)"
   ]
  },
  {
   "cell_type": "code",
   "execution_count": 4,
   "metadata": {},
   "outputs": [],
   "source": [
    "def polygon_random_points (poly, num_points):\n",
    "    min_x, min_y, max_x, max_y = poly.bounds\n",
    "    points = []\n",
    "    while len(points) < num_points:\n",
    "        random_point = shapely.Point([np.random.uniform(min_x, max_x), np.random.uniform(min_y, max_y)])\n",
    "        if (random_point.within(poly)):\n",
    "            points.append(random_point)\n",
    "    return points"
   ]
  },
  {
   "cell_type": "code",
   "execution_count": 11,
   "metadata": {},
   "outputs": [],
   "source": [
    "def generate_country_data():\n",
    "    # We first sample a continent with equal probability\n",
    "    continent = np.random.choice(country_data['Continent'].unique())\n",
    "    continent_countries = country_data[country_data['Continent'] == continent]\n",
    "    if continent_countries.empty:\n",
    "        return generate_country_data()\n",
    "    # We first sample a country with a probability proportional to its surface area compared to the Earth’s total surface area.\n",
    "    country = np.random.choice(continent_countries['country'], p=continent_countries['area']/continent_countries['area'].sum())\n",
    "    # Randomly sample a city from the selected country\n",
    "    picked_city_data = city_data[city_data['country'] == country]\n",
    "    if picked_city_data.empty:\n",
    "        return generate_country_data()\n",
    "    # Randomly sample a city based on the population\n",
    "    city_name = np.random.choice(picked_city_data['city'], p=picked_city_data['population']/picked_city_data['population'].sum())\n",
    "    city = city_data[city_data['city'] == city_name].iloc[0]\n",
    "\n",
    "    city_point = shapely.geometry.Point(city['lng'], city['lat'])\n",
    "    city_buffer = city_point.buffer(0.25)\n",
    "\n",
    "    return (continent, country, city, polygon_random_points(city_buffer, 50))"
   ]
  },
  {
   "cell_type": "code",
   "execution_count": null,
   "metadata": {},
   "outputs": [],
   "source": [
    "m = folium.Map(zoom_start=2.2)\n",
    "\n",
    "continents = defaultdict(int)\n",
    "countries = defaultdict(int)\n",
    "cities = defaultdict(int)\n",
    "\n",
    "for i in range(10000):\n",
    "    continent, country, city, points = generate_country_data()\n",
    "    # folium.Marker([city['lat'], city['lng']], popup=city['city']).add_to(m)\n",
    "    # for p in points:\n",
    "    #     folium.Marker([p.y, p.x], icon=folium.Icon(color='green')).add_to(m)\n",
    "    continents[continent] += 1\n",
    "    countries[country] += 1\n",
    "\n",
    "print(sorted(continents.items(), key=lambda x: x[1], reverse=True))\n",
    "print(sorted(countries.items(),  key=lambda x: x[1], reverse=True))\n",
    "print(len(countries))"
   ]
  },
  {
   "cell_type": "code",
   "execution_count": 7,
   "metadata": {},
   "outputs": [],
   "source": [
    "# from GoogleDataDownloader import StreetViewer\n",
    "\n",
    "# sv = StreetViewer(verbose=False)\n",
    "# for p in points:\n",
    "#     sv.get_meta(f\"{p.y},{p.x}\")\n",
    "#     sv.get_pic(f\"{p.y},{p.x}\")"
   ]
  },
  {
   "cell_type": "code",
   "execution_count": null,
   "metadata": {},
   "outputs": [],
   "source": [
    "from datasets import load_dataset\n",
    "\n",
    "dataset = load_dataset('stochastic/random_streetview_images_pano_v0.0.2')"
   ]
  },
  {
   "cell_type": "code",
   "execution_count": 27,
   "metadata": {},
   "outputs": [],
   "source": [
    "dataset = dataset['train']"
   ]
  },
  {
   "cell_type": "code",
   "execution_count": 41,
   "metadata": {},
   "outputs": [],
   "source": [
    "m = folium.Map(zoom_start=2.2)\n",
    "\n",
    "for row in dataset:\n",
    "    folium.Marker([float(row['latitude']), float(row['longitude'])], popup=row['address']).add_to(m)"
   ]
  },
  {
   "cell_type": "code",
   "execution_count": 42,
   "metadata": {},
   "outputs": [],
   "source": [
    "m.save('index.html')"
   ]
  },
  {
   "cell_type": "code",
   "execution_count": null,
   "metadata": {},
   "outputs": [],
   "source": [
    "m"
   ]
  },
  {
   "cell_type": "code",
   "execution_count": null,
   "metadata": {},
   "outputs": [],
   "source": []
  }
 ],
 "metadata": {
  "kernelspec": {
   "display_name": "mlp",
   "language": "python",
   "name": "python3"
  },
  "language_info": {
   "codemirror_mode": {
    "name": "ipython",
    "version": 3
   },
   "file_extension": ".py",
   "mimetype": "text/x-python",
   "name": "python",
   "nbconvert_exporter": "python",
   "pygments_lexer": "ipython3",
   "version": "3.12.2"
  }
 },
 "nbformat": 4,
 "nbformat_minor": 2
}
