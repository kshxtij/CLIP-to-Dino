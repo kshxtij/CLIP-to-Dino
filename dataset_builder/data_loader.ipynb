{
 "cells": [
  {
   "cell_type": "code",
   "execution_count": 2,
   "metadata": {},
   "outputs": [],
   "source": [
    "import os"
   ]
  },
  {
   "cell_type": "code",
   "execution_count": 5,
   "metadata": {},
   "outputs": [],
   "source": [
    "files = list(os.listdir('./streetviews'))\n",
    "\n",
    "files = list(filter(lambda x: x.endswith('.jpg'), files))"
   ]
  },
  {
   "cell_type": "code",
   "execution_count": 17,
   "metadata": {},
   "outputs": [],
   "source": [
    "import folium\n",
    "m = folium.Map()\n",
    "\n",
    "for file in files:\n",
    "    lat, lon = file.split('_').pop()[:-4].split(',')\n",
    "    folium.Marker([lat, lon], popup=folium.Popup('<img src=\"streetviews/' + file + '\"/>')).add_to(m)\n",
    "\n",
    "m.save('map.html')"
   ]
  }
 ],
 "metadata": {
  "kernelspec": {
   "display_name": "mlp",
   "language": "python",
   "name": "python3"
  },
  "language_info": {
   "codemirror_mode": {
    "name": "ipython",
    "version": 3
   },
   "file_extension": ".py",
   "mimetype": "text/x-python",
   "name": "python",
   "nbconvert_exporter": "python",
   "pygments_lexer": "ipython3",
   "version": "3.12.2"
  }
 },
 "nbformat": 4,
 "nbformat_minor": 2
}
